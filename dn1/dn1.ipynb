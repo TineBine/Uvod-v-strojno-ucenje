{
 "cells": [
  {
   "cell_type": "code",
   "execution_count": 1,
   "metadata": {},
   "outputs": [],
   "source": [
    "import pandas as pd\n",
    "import numpy as np\n",
    "\n",
    "names = [\"word_freq_make\",\n",
    "\"word_freq_address\",\n",
    "\"word_freq_all\",\n",
    "\"word_freq_3d\",\n",
    "\"word_freq_our\", \n",
    "\"word_freq_over\",\n",
    "\"word_freq_remove\",\n",
    "\"word_freq_internet\",\n",
    "\"word_freq_order\",\n",
    "\"word_freq_mail\",\n",
    "\"word_freq_receive\",\n",
    "\"word_freq_will\",\n",
    "\"word_freq_people\",\n",
    "\"word_freq_report\",\n",
    "\"word_freq_addresses\",\n",
    "\"word_freq_free\",\n",
    "\"word_freq_business\",\n",
    "\"word_freq_email\",\n",
    "\"word_freq_you\",\n",
    "\"word_freq_credit\",\n",
    "\"word_freq_your\",\n",
    "\"word_freq_font\",\n",
    "\"word_freq_000\",\n",
    "\"word_freq_money\",\n",
    "\"word_freq_hp\",\n",
    "\"word_freq_hpl\",\n",
    "\"word_freq_george\",\n",
    "\"word_freq_650\",\n",
    "\"word_freq_lab\",\n",
    "\"word_freq_labs\",\n",
    "\"word_freq_telnet\",\n",
    "\"word_freq_857\",\n",
    "\"word_freq_data\",\n",
    "\"word_freq_415\",\n",
    "\"word_freq_85\",\n",
    "\"word_freq_technology\",\n",
    "\"word_freq_1999\",\n",
    "\"word_freq_parts\",\n",
    "\"word_freq_pm\",\n",
    "\"word_freq_direct\",\n",
    "\"word_freq_cs\",\n",
    "\"word_freq_meeting\",\n",
    "\"word_freq_original\",\n",
    "\"word_freq_project\",\n",
    "\"word_freq_re\",\n",
    "\"word_freq_edu\",\n",
    "\"word_freq_table\",\n",
    "\"word_freq_conference\",\n",
    "\"char_freq_;\", \n",
    "\"char_freq_(\",\n",
    "\"char_freq_[\",\n",
    "\"char_freq_!\",\n",
    "\"char_freq_$\",\n",
    "\"char_freq_#\",\n",
    "\"capital_run_length_average\",\n",
    "\"capital_run_length_longest\",\n",
    "\"capital_run_length_total\",\n",
    "\"spam\"]\n",
    "\n",
    "podatki = pd.read_csv('spambase/spambase.data', header=None, index_col=False)\n",
    "podatki.columns = names"
   ]
  },
  {
   "cell_type": "code",
   "execution_count": 2,
   "metadata": {},
   "outputs": [
    {
     "name": "stdout",
     "output_type": "stream",
     "text": [
      "      word_freq_make  word_freq_address  word_freq_all  word_freq_3d  \\\n",
      "0               0.00               0.64           0.64           0.0   \n",
      "1               0.21               0.28           0.50           0.0   \n",
      "2               0.06               0.00           0.71           0.0   \n",
      "3               0.00               0.00           0.00           0.0   \n",
      "4               0.00               0.00           0.00           0.0   \n",
      "...              ...                ...            ...           ...   \n",
      "4596            0.31               0.00           0.62           0.0   \n",
      "4597            0.00               0.00           0.00           0.0   \n",
      "4598            0.30               0.00           0.30           0.0   \n",
      "4599            0.96               0.00           0.00           0.0   \n",
      "4600            0.00               0.00           0.65           0.0   \n",
      "\n",
      "      word_freq_our  word_freq_over  word_freq_remove  word_freq_internet  \\\n",
      "0              0.32            0.00              0.00                0.00   \n",
      "1              0.14            0.28              0.21                0.07   \n",
      "2              1.23            0.19              0.19                0.12   \n",
      "3              0.63            0.00              0.31                0.63   \n",
      "4              0.63            0.00              0.31                0.63   \n",
      "...             ...             ...               ...                 ...   \n",
      "4596           0.00            0.31              0.00                0.00   \n",
      "4597           0.00            0.00              0.00                0.00   \n",
      "4598           0.00            0.00              0.00                0.00   \n",
      "4599           0.32            0.00              0.00                0.00   \n",
      "4600           0.00            0.00              0.00                0.00   \n",
      "\n",
      "      word_freq_order  word_freq_mail  ...  char_freq_;  char_freq_(  \\\n",
      "0                0.00            0.00  ...        0.000        0.000   \n",
      "1                0.00            0.94  ...        0.000        0.132   \n",
      "2                0.64            0.25  ...        0.010        0.143   \n",
      "3                0.31            0.63  ...        0.000        0.137   \n",
      "4                0.31            0.63  ...        0.000        0.135   \n",
      "...               ...             ...  ...          ...          ...   \n",
      "4596             0.00            0.00  ...        0.000        0.232   \n",
      "4597             0.00            0.00  ...        0.000        0.000   \n",
      "4598             0.00            0.00  ...        0.102        0.718   \n",
      "4599             0.00            0.00  ...        0.000        0.057   \n",
      "4600             0.00            0.00  ...        0.000        0.000   \n",
      "\n",
      "      char_freq_[  char_freq_!  char_freq_$  char_freq_#  \\\n",
      "0             0.0        0.778        0.000        0.000   \n",
      "1             0.0        0.372        0.180        0.048   \n",
      "2             0.0        0.276        0.184        0.010   \n",
      "3             0.0        0.137        0.000        0.000   \n",
      "4             0.0        0.135        0.000        0.000   \n",
      "...           ...          ...          ...          ...   \n",
      "4596          0.0        0.000        0.000        0.000   \n",
      "4597          0.0        0.353        0.000        0.000   \n",
      "4598          0.0        0.000        0.000        0.000   \n",
      "4599          0.0        0.000        0.000        0.000   \n",
      "4600          0.0        0.125        0.000        0.000   \n",
      "\n",
      "      capital_run_length_average  capital_run_length_longest  \\\n",
      "0                          3.756                          61   \n",
      "1                          5.114                         101   \n",
      "2                          9.821                         485   \n",
      "3                          3.537                          40   \n",
      "4                          3.537                          40   \n",
      "...                          ...                         ...   \n",
      "4596                       1.142                           3   \n",
      "4597                       1.555                           4   \n",
      "4598                       1.404                           6   \n",
      "4599                       1.147                           5   \n",
      "4600                       1.250                           5   \n",
      "\n",
      "      capital_run_length_total  spam  \n",
      "0                          278     1  \n",
      "1                         1028     1  \n",
      "2                         2259     1  \n",
      "3                          191     1  \n",
      "4                          191     1  \n",
      "...                        ...   ...  \n",
      "4596                        88     0  \n",
      "4597                        14     0  \n",
      "4598                       118     0  \n",
      "4599                        78     0  \n",
      "4600                        40     0  \n",
      "\n",
      "[4601 rows x 58 columns]\n"
     ]
    }
   ],
   "source": [
    "print(podatki)"
   ]
  },
  {
   "cell_type": "code",
   "execution_count": 3,
   "metadata": {},
   "outputs": [],
   "source": [
    "from sklearn.model_selection import train_test_split\n",
    "np.random.seed(0)\n",
    "\n",
    "X = podatki.drop(\"spam\", axis=1)\n",
    "y = podatki[\"spam\"]\n",
    "\n",
    "X_train, X_test, y_train, y_test = train_test_split(X, y, train_size=0.8)"
   ]
  },
  {
   "cell_type": "code",
   "execution_count": 4,
   "metadata": {},
   "outputs": [
    {
     "name": "stdout",
     "output_type": "stream",
     "text": [
      "Natančnost: 0.94897\n"
     ]
    }
   ],
   "source": [
    "from sklearn.ensemble import RandomForestClassifier\n",
    "from sklearn.metrics import accuracy_score\n",
    "\n",
    "forest = RandomForestClassifier(random_state=0)\n",
    "forest.fit(X_train, y_train)\n",
    "\n",
    "pred = forest.predict(X_test)\n",
    "acc = accuracy_score(y_test, pred)\n",
    "print(f\"Natančnost: {acc:.5f}\")"
   ]
  },
  {
   "cell_type": "code",
   "execution_count": 5,
   "metadata": {},
   "outputs": [
    {
     "data": {
      "image/png": "[encoded data removed]",
      "text/plain": [
       "<Figure size 1200x750 with 1 Axes>"
      ]
     },
     "metadata": {},
     "output_type": "display_data"
    }
   ],
   "source": [
    "import matplotlib.pyplot as plt\n",
    "\n",
    "imena_znacilk = X_train.columns\n",
    "koristnost_znacilk = forest.feature_importances_\n",
    "pomembnost = pd.DataFrame(koristnost_znacilk, imena_znacilk)\n",
    "\n",
    "urejene = pomembnost.sort_values(0, ascending=False)\n",
    "urejene_imena = urejene.index.tolist()\n",
    "\n",
    "xs = range(len(urejene_imena))\n",
    "plt.figure(figsize=(8,5), dpi=150)\n",
    "plt.bar(xs, urejene[0])\n",
    "for i in range(3):\n",
    "    plt.text(i, urejene[0][i], urejene_imena[i], ha='left', va='bottom')\n",
    "plt.text(3, urejene[0][3], urejene_imena[3], ha='left', va='top')\n",
    "\n",
    "plt.xlabel(\"Atributi\")\n",
    "plt.ylabel(\"Koristnost\")\n",
    "\n",
    "plt.show()"
   ]
  },
  {
   "cell_type": "code",
   "execution_count": 6,
   "metadata": {},
   "outputs": [
    {
     "name": "stdout",
     "output_type": "stream",
     "text": [
      "                                   0\n",
      "char_freq_!                 0.107022\n",
      "word_freq_remove            0.083530\n",
      "char_freq_$                 0.073538\n",
      "word_freq_free              0.072164\n",
      "capital_run_length_average  0.062612\n",
      "word_freq_your              0.060393\n",
      "capital_run_length_longest  0.057846\n",
      "word_freq_hp                0.051913\n",
      "capital_run_length_total    0.047895\n",
      "word_freq_money             0.042034\n",
      "word_freq_you               0.030329\n",
      "word_freq_000               0.029559\n",
      "word_freq_our               0.028782\n",
      "word_freq_edu               0.019825\n",
      "word_freq_george            0.018032\n",
      "word_freq_hpl               0.017465\n",
      "word_freq_business          0.014513\n",
      "word_freq_1999              0.013638\n",
      "word_freq_all               0.012437\n",
      "char_freq_(                 0.011642\n",
      "word_freq_will              0.010943\n",
      "word_freq_internet          0.010608\n",
      "word_freq_re                0.009437\n",
      "word_freq_receive           0.009216\n",
      "word_freq_mail              0.008530\n",
      "word_freq_email             0.007410\n",
      "word_freq_labs              0.006834\n",
      "word_freq_address           0.006626\n",
      "char_freq_;                 0.005944\n",
      "word_freq_over              0.005671\n",
      "word_freq_meeting           0.004954\n",
      "word_freq_technology        0.004734\n",
      "word_freq_650               0.004563\n",
      "word_freq_data              0.003953\n",
      "word_freq_people            0.003714\n",
      "word_freq_order             0.003678\n",
      "char_freq_#                 0.003632\n",
      "word_freq_pm                0.003568\n",
      "word_freq_make              0.003532\n",
      "word_freq_credit            0.003447\n",
      "char_freq_[                 0.002866\n",
      "word_freq_85                0.002746\n",
      "word_freq_report            0.002527\n",
      "word_freq_font              0.002205\n",
      "word_freq_project           0.001900\n",
      "word_freq_lab               0.001875\n",
      "word_freq_addresses         0.001405\n",
      "word_freq_conference        0.001373\n",
      "word_freq_857               0.001154\n",
      "word_freq_original          0.001148\n",
      "word_freq_direct            0.000933\n",
      "word_freq_telnet            0.000834\n",
      "word_freq_cs                0.000787\n",
      "word_freq_415               0.000773\n",
      "word_freq_3d                0.000731\n",
      "word_freq_parts             0.000394\n",
      "word_freq_table             0.000180\n"
     ]
    }
   ],
   "source": [
    "print(urejene)"
   ]
  },
  {
   "cell_type": "code",
   "execution_count": 52,
   "metadata": {},
   "outputs": [
    {
     "data": {
      "image/png": "[encoded data removed]",
      "text/plain": [
       "<Figure size 640x480 with 1 Axes>"
      ]
     },
     "metadata": {},
     "output_type": "display_data"
    },
    {
     "name": "stdout",
     "output_type": "stream",
     "text": [
      "Število lažno pozitivnih: 14\n"
     ]
    }
   ],
   "source": [
    "from sklearn.metrics import confusion_matrix\n",
    "import seaborn as sns\n",
    "\n",
    "confusion_mat = confusion_matrix(y_test, pred)\n",
    "false_positives = confusion_mat[0, 1]\n",
    "\n",
    "fig, ax = plt.subplots()\n",
    "\n",
    "sns.heatmap(confusion_mat, annot=True, fmt=\"d\", cmap=\"Blues\", cbar=False,\n",
    "            xticklabels=[0, 1], yticklabels=[0, 1], ax=ax)\n",
    "\n",
    "ax.set_yticklabels([0, 1], rotation=0)\n",
    "ax.set_xlabel('Napovedane')\n",
    "ax.set_ylabel('Resnične')\n",
    "ax.set_title('Confusion Matrix')\n",
    "\n",
    "plt.show()\n",
    "\n",
    "print(\"Število lažno pozitivnih:\", false_positives)\n"
   ]
  },
  {
   "cell_type": "code",
   "execution_count": 46,
   "metadata": {},
   "outputs": [
    {
     "data": {
      "text/plain": [
       "{'class_weight': {0: 1, 1: 7}, 'max_depth': None, 'min_samples_leaf': 1}"
      ]
     },
     "execution_count": 46,
     "metadata": {},
     "output_type": "execute_result"
    }
   ],
   "source": [
    "from sklearn.model_selection import GridSearchCV\n",
    "\n",
    "hiperparametri = {\n",
    "                  \"max_depth\": [None, 5, 10],\n",
    "                  \"min_samples_leaf\": [1, 2, 5],\n",
    "                  \"class_weight\": [{0: 1, 1: 1}, {0: 1, 1: 5}, {0: 1, 1: 7}, {0: 1, 1: 10}, {0: 1, 1: 15}]\n",
    "                  }\n",
    "\n",
    "gs = GridSearchCV(forest, hiperparametri, scoring=\"precision\", cv=5, refit=True)\n",
    "gs.fit(X_train, y_train)\n",
    "gs.best_params_"
   ]
  },
  {
   "cell_type": "code",
   "execution_count": 47,
   "metadata": {},
   "outputs": [
    {
     "name": "stdout",
     "output_type": "stream",
     "text": [
      "Število lažno pozitivnih: 15\n",
      "Natančnost: 0.95005\n"
     ]
    }
   ],
   "source": [
    "forest_precise = RandomForestClassifier(random_state=0, class_weight={0: 1, 1: 7}, max_depth=None, min_samples_leaf=1)\n",
    "forest_precise.fit(X_train, y_train)\n",
    "\n",
    "pred = forest_precise.predict(X_test)\n",
    "confusion_mat = confusion_matrix(y_test, pred)\n",
    "false_positives = confusion_mat[0, 1]\n",
    "acc = accuracy_score(y_test, pred)\n",
    "\n",
    "print(\"Število lažno pozitivnih:\", false_positives)\n",
    "print(f\"Natančnost: {acc:.5f}\")"
   ]
  },
  {
   "cell_type": "code",
   "execution_count": 53,
   "metadata": {},
   "outputs": [
    {
     "data": {
      "text/plain": [
       "{'criterion': 'entropy', 'n_estimators': 100}"
      ]
     },
     "execution_count": 53,
     "metadata": {},
     "output_type": "execute_result"
    }
   ],
   "source": [
    "hiperparametri = {\"n_estimators\": [100, 200, 300, 400],\n",
    "                  \"criterion\": [\"gini\", \"entropy\"]\n",
    "                  }\n",
    "\n",
    "gs = GridSearchCV(forest, hiperparametri, scoring=\"accuracy\", cv=5, refit=True)\n",
    "gs.fit(X_train, y_train)\n",
    "gs.best_params_"
   ]
  },
  {
   "cell_type": "code",
   "execution_count": 49,
   "metadata": {},
   "outputs": [
    {
     "name": "stdout",
     "output_type": "stream",
     "text": [
      "Natančnost: 0.95114\n"
     ]
    }
   ],
   "source": [
    "forest_best = RandomForestClassifier(random_state=0, n_estimators=100, criterion=\"entropy\")\n",
    "forest_best.fit(X_train, y_train)\n",
    "\n",
    "pred = forest_best.predict(X_test)\n",
    "acc = accuracy_score(y_test, pred)\n",
    "print(f\"Natančnost: {acc:.5f}\")"
   ]
  }
 ],
 "metadata": {
  "kernelspec": {
   "display_name": "Python 3",
   "language": "python",
   "name": "python3"
  },
  "language_info": {
   "codemirror_mode": {
    "name": "ipython",
    "version": 3
   },
   "file_extension": ".py",
   "mimetype": "text/x-python",
   "name": "python",
   "nbconvert_exporter": "python",
   "pygments_lexer": "ipython3",
   "version": "3.11.2"
  },
  "orig_nbformat": 4
 },
 "nbformat": 4,
 "nbformat_minor": 2
}
